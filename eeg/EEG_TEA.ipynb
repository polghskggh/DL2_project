{
 "cells": [
  {
   "metadata": {},
   "cell_type": "markdown",
   "source": "# EEG-TEA: A Novel Application of Test-time Energy Adaptation in Electroencephalogram Decoding",
   "id": "ed2267dbac7a0a17"
  },
  {
   "metadata": {
    "collapsed": true
   },
   "cell_type": "code",
   "source": [
    "from eeg_otta.utils.config_setup import setup_config\n",
    "from eeg_otta.utils.get_accuracy import calculate_accuracy\n",
    "from eeg.analysis.plots import plot_energy_accuracy_loss, plot_accuracy\n",
    "from eeg_otta.utils.embedding_eval import plot_embeddings"
   ],
   "id": "initial_id",
   "outputs": [],
   "execution_count": null
  },
  {
   "metadata": {},
   "cell_type": "markdown",
   "source": [
    "### 1. Run adaptation\n",
    "Experiment loso:\n",
    "- dataset_name: 2a\n",
    "- dataset_setup: loso\n",
    "- corruption_level: None\n",
    "\n",
    "Experiment corruption:\n",
    "- dataset_name: 2b\n",
    "- dataset_setup: within\n",
    "- corruption_level: 1, 2, 3, 4, 5"
   ],
   "id": "db9fee33325a96ca"
  },
  {
   "metadata": {},
   "cell_type": "code",
   "source": [
    "dataset_name = '2a' # ['2a', '2b']\n",
    "dataset_setup = 'loso' # ['within', 'loso']\n",
    "corruption_level = 1 # [None, 1, 2, 3, 4, 5] (None = no corruption)"
   ],
   "id": "ed87eae85614bda6",
   "outputs": [],
   "execution_count": null
  },
  {
   "metadata": {},
   "cell_type": "code",
   "source": [
    "seeds = [0]\n",
    "save_dir = {}\n",
    "tea_model_dict = {}\n",
    "adaptation_methods = [ 'source',  'entropy_minimization', 'tea']\n",
    "\n",
    "for seed in seeds:\n",
    "    for adaptation_method in adaptation_methods:\n",
    "        print(f\"Evaluating adaptation method: {adaptation_method}\")\n",
    "        model_cls, tta_cls, datamodule, config = setup_config(dataset_name, dataset_setup, adaptation_method, seed, corruption_level)\n",
    "        test_accuracy, model_dict = calculate_accuracy(model_cls, tta_cls, datamodule, config, get_model_dict=True)\n",
    "\n",
    "        if adaptation_method == 'tea':\n",
    "            tea_model_dict = model_dict\n",
    "        save_dir[adaptation_method] = config['tta_config']['save_dir']"
   ],
   "id": "10de8de913a96a83",
   "outputs": [],
   "execution_count": null
  },
  {
   "metadata": {},
   "cell_type": "markdown",
   "source": "### 2. Plot results",
   "id": "11034bb46aa572da"
  },
  {
   "metadata": {},
   "cell_type": "code",
   "source": "plot_energy_accuracy_loss(save_dir['tea'])",
   "id": "5ad3ad186ee50474",
   "outputs": [],
   "execution_count": null
  },
  {
   "metadata": {},
   "cell_type": "code",
   "source": "plot_accuracy(save_dir)",
   "id": "bf3b232e0c89f9c3",
   "outputs": [],
   "execution_count": null
  },
  {
   "metadata": {},
   "cell_type": "markdown",
   "source": "### 3. Plot PCA embeddings",
   "id": "969c30312bbabe90"
  },
  {
   "metadata": {},
   "cell_type": "code",
   "source": [
    "SUBJECT_ID = 1\n",
    "corruption_level = None\n",
    "adapted = False\n",
    "\n",
    "if not adapted:\n",
    "    model, _, _, _ = setup_config(dataset_name, dataset_setup, 'tea', 0, corruption_level)\n",
    "else:\n",
    "    model = tea_model_dict[SUBJECT_ID]\n",
    "\n",
    "datamodule.subject_id = SUBJECT_ID\n",
    "datamodule.prepare_data()\n",
    "datamodule.setup()\n",
    "datamodule.corruption_level = corruption_level\n",
    "\n",
    "plot_embeddings(tea_model_dict[SUBJECT_ID], datamodule.train_dataloader(), datamodule.test_dataloader())"
   ],
   "id": "2959d1e1390fe819",
   "outputs": [],
   "execution_count": null
  }
 ],
 "metadata": {
  "kernelspec": {
   "display_name": "Python 3",
   "language": "python",
   "name": "python3"
  },
  "language_info": {
   "codemirror_mode": {
    "name": "ipython",
    "version": 2
   },
   "file_extension": ".py",
   "mimetype": "text/x-python",
   "name": "python",
   "nbconvert_exporter": "python",
   "pygments_lexer": "ipython2",
   "version": "2.7.6"
  }
 },
 "nbformat": 4,
 "nbformat_minor": 5
}
