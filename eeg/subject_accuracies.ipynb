{
 "cells": [
  {
   "cell_type": "code",
   "execution_count": 1,
   "id": "baaa4b2f",
   "metadata": {},
   "outputs": [],
   "source": [
    "%load_ext autoreload\n",
    "%autoreload 2"
   ]
  },
  {
   "cell_type": "code",
   "execution_count": 2,
   "id": "initial_id",
   "metadata": {
    "collapsed": true
   },
   "outputs": [],
   "source": [
    "import os\n",
    "\n",
    "EEG_PROJECT_PATH = \".\"\n",
    "CHECKPOINT_PATH = os.path.join(EEG_PROJECT_PATH, \"checkpoints\")\n",
    "CONFIG_DIR = os.path.join(EEG_PROJECT_PATH, \"configs\")\n",
    "DEFAULT_CONFIG = \"tta_energy.yaml\""
   ]
  },
  {
   "cell_type": "code",
   "execution_count": null,
   "id": "93e213c806efbfa9",
   "metadata": {},
   "outputs": [],
   "source": [
    "import yaml\n",
    "\n",
    "with open(os.path.join(CONFIG_DIR, DEFAULT_CONFIG)) as f:\n",
    "    config = yaml.safe_load(f)"
   ]
  },
  {
   "cell_type": "code",
   "execution_count": 4,
   "id": "a6266b07a6f3ba21",
   "metadata": {},
   "outputs": [
    {
     "data": {
      "text/plain": [
       "{'source_run': 'src-bcic2a_loso_2023-12-04_14-41-13',\n",
       " 'tta_method': 'energy_adaptation',\n",
       " 'continual': False,\n",
       " 'tta_config': {'alignment': False,\n",
       "  'averaging_method': 'ema',\n",
       "  'align_alpha': 0.1,\n",
       "  'buffer_length': 32,\n",
       "  'langevin_init': {'series_length': 1000},\n",
       "  'optimizer': 'Adam',\n",
       "  'optimizer_kwargs': {'lr': 0.005, 'beta': 0.9, 'weight_decay': 0.0}}}"
      ]
     },
     "execution_count": 4,
     "metadata": {},
     "output_type": "execute_result"
    }
   ],
   "source": [
    "config"
   ]
  },
  {
   "cell_type": "code",
   "execution_count": null,
   "id": "39ff8be0133b0f44",
   "metadata": {},
   "outputs": [
    {
     "name": "stdout",
     "output_type": "stream",
     "text": [
      "Tensorflow not install, you could not use those pipelines\n",
      "Setting all random seeds to 0, cuda_available=False\n"
     ]
    }
   ],
   "source": [
    "import torch\n",
    "from eeg_otta.models import BaseNet\n",
    "from eeg_otta.utils.get_datamodule_cls import get_datamodule_cls\n",
    "from eeg_otta.utils.seed import seed_everything\n",
    "\n",
    "\n",
    "with open(os.path.join(CHECKPOINT_PATH, config[\"source_run\"], \"config.yaml\")) as f:\n",
    "    source_config = yaml.safe_load(f)\n",
    "device = torch.device(\n",
    "    \"mps\"\n",
    "    if torch.backends.mps.is_available()\n",
    "    else \"cuda\" if torch.cuda.is_available() else \"cpu\"\n",
    ")\n",
    "\n",
    "seed_everything(source_config[\"seed\"])\n",
    "\n",
    "datamodule_cls = get_datamodule_cls(source_config[\"dataset_name\"])\n",
    "model_cls = BaseNet"
   ]
  },
  {
   "cell_type": "code",
   "execution_count": null,
   "id": "40c3666901e321b2",
   "metadata": {},
   "outputs": [
    {
     "name": "stdout",
     "output_type": "stream",
     "text": [
      "48 events found on stim channel stim\n",
      "Event IDs: [1 2 3 4]\n",
      "48 events found on stim channel stim\n",
      "Event IDs: [1 2 3 4]\n",
      "48 events found on stim channel stim\n",
      "Event IDs: [1 2 3 4]\n",
      "48 events found on stim channel stim\n",
      "Event IDs: [1 2 3 4]\n",
      "48 events found on stim channel stim\n",
      "Event IDs: [1 2 3 4]\n",
      "48 events found on stim channel stim\n",
      "Event IDs: [1 2 3 4]\n",
      "48 events found on stim channel stim\n",
      "Event IDs: [1 2 3 4]\n",
      "48 events found on stim channel stim\n",
      "Event IDs: [1 2 3 4]\n",
      "48 events found on stim channel stim\n",
      "Event IDs: [1 2 3 4]\n",
      "48 events found on stim channel stim\n",
      "Event IDs: [1 2 3 4]\n",
      "48 events found on stim channel stim\n",
      "Event IDs: [1 2 3 4]\n",
      "48 events found on stim channel stim\n",
      "Event IDs: [1 2 3 4]\n",
      "48 events found on stim channel stim\n",
      "Event IDs: [1 2 3 4]\n",
      "48 events found on stim channel stim\n",
      "Event IDs: [1 2 3 4]\n",
      "48 events found on stim channel stim\n",
      "Event IDs: [1 2 3 4]\n",
      "48 events found on stim channel stim\n",
      "Event IDs: [1 2 3 4]\n",
      "48 events found on stim channel stim\n",
      "Event IDs: [1 2 3 4]\n",
      "48 events found on stim channel stim\n",
      "Event IDs: [1 2 3 4]\n",
      "48 events found on stim channel stim\n",
      "Event IDs: [1 2 3 4]\n",
      "48 events found on stim channel stim\n",
      "Event IDs: [1 2 3 4]\n",
      "48 events found on stim channel stim\n",
      "Event IDs: [1 2 3 4]\n",
      "48 events found on stim channel stim\n",
      "Event IDs: [1 2 3 4]\n",
      "48 events found on stim channel stim\n",
      "Event IDs: [1 2 3 4]\n",
      "48 events found on stim channel stim\n",
      "Event IDs: [1 2 3 4]\n",
      "48 events found on stim channel stim\n",
      "Event IDs: [1 2 3 4]\n",
      "48 events found on stim channel stim\n",
      "Event IDs: [1 2 3 4]\n",
      "48 events found on stim channel stim\n",
      "Event IDs: [1 2 3 4]\n",
      "48 events found on stim channel stim\n",
      "Event IDs: [1 2 3 4]\n",
      "48 events found on stim channel stim\n",
      "Event IDs: [1 2 3 4]\n",
      "48 events found on stim channel stim\n",
      "Event IDs: [1 2 3 4]\n",
      "48 events found on stim channel stim\n",
      "Event IDs: [1 2 3 4]\n",
      "48 events found on stim channel stim\n",
      "Event IDs: [1 2 3 4]\n",
      "48 events found on stim channel stim\n",
      "Event IDs: [1 2 3 4]\n",
      "48 events found on stim channel stim\n",
      "Event IDs: [1 2 3 4]\n",
      "48 events found on stim channel stim\n",
      "Event IDs: [1 2 3 4]\n",
      "48 events found on stim channel stim\n",
      "Event IDs: [1 2 3 4]\n",
      "48 events found on stim channel stim\n",
      "Event IDs: [1 2 3 4]\n",
      "48 events found on stim channel stim\n",
      "Event IDs: [1 2 3 4]\n",
      "48 events found on stim channel stim\n",
      "Event IDs: [1 2 3 4]\n",
      "48 events found on stim channel stim\n",
      "Event IDs: [1 2 3 4]\n",
      "48 events found on stim channel stim\n",
      "Event IDs: [1 2 3 4]\n",
      "48 events found on stim channel stim\n",
      "Event IDs: [1 2 3 4]\n",
      "48 events found on stim channel stim\n",
      "Event IDs: [1 2 3 4]\n",
      "48 events found on stim channel stim\n",
      "Event IDs: [1 2 3 4]\n",
      "48 events found on stim channel stim\n",
      "Event IDs: [1 2 3 4]\n",
      "48 events found on stim channel stim\n",
      "Event IDs: [1 2 3 4]\n",
      "48 events found on stim channel stim\n",
      "Event IDs: [1 2 3 4]\n",
      "48 events found on stim channel stim\n",
      "Event IDs: [1 2 3 4]\n",
      "48 events found on stim channel stim\n",
      "Event IDs: [1 2 3 4]\n",
      "48 events found on stim channel stim\n",
      "Event IDs: [1 2 3 4]\n",
      "48 events found on stim channel stim\n",
      "Event IDs: [1 2 3 4]\n",
      "48 events found on stim channel stim\n",
      "Event IDs: [1 2 3 4]\n",
      "48 events found on stim channel stim\n",
      "Event IDs: [1 2 3 4]\n",
      "48 events found on stim channel stim\n",
      "Event IDs: [1 2 3 4]\n",
      "48 events found on stim channel stim\n",
      "Event IDs: [1 2 3 4]\n",
      "48 events found on stim channel stim\n",
      "Event IDs: [1 2 3 4]\n",
      "48 events found on stim channel stim\n",
      "Event IDs: [1 2 3 4]\n",
      "48 events found on stim channel stim\n",
      "Event IDs: [1 2 3 4]\n",
      "48 events found on stim channel stim\n",
      "Event IDs: [1 2 3 4]\n",
      "48 events found on stim channel stim\n",
      "Event IDs: [1 2 3 4]\n",
      "48 events found on stim channel stim\n",
      "Event IDs: [1 2 3 4]\n",
      "48 events found on stim channel stim\n",
      "Event IDs: [1 2 3 4]\n",
      "48 events found on stim channel stim\n",
      "Event IDs: [1 2 3 4]\n",
      "48 events found on stim channel stim\n",
      "Event IDs: [1 2 3 4]\n",
      "48 events found on stim channel stim\n",
      "Event IDs: [1 2 3 4]\n",
      "48 events found on stim channel stim\n",
      "Event IDs: [1 2 3 4]\n",
      "48 events found on stim channel stim\n",
      "Event IDs: [1 2 3 4]\n",
      "48 events found on stim channel stim\n",
      "Event IDs: [1 2 3 4]\n",
      "48 events found on stim channel stim\n",
      "Event IDs: [1 2 3 4]\n",
      "48 events found on stim channel stim\n",
      "Event IDs: [1 2 3 4]\n",
      "48 events found on stim channel stim\n",
      "Event IDs: [1 2 3 4]\n",
      "48 events found on stim channel stim\n",
      "Event IDs: [1 2 3 4]\n",
      "48 events found on stim channel stim\n",
      "Event IDs: [1 2 3 4]\n",
      "48 events found on stim channel stim\n",
      "Event IDs: [1 2 3 4]\n",
      "48 events found on stim channel stim\n",
      "Event IDs: [1 2 3 4]\n",
      "48 events found on stim channel stim\n",
      "Event IDs: [1 2 3 4]\n",
      "48 events found on stim channel stim\n",
      "Event IDs: [1 2 3 4]\n",
      "48 events found on stim channel stim\n",
      "Event IDs: [1 2 3 4]\n",
      "48 events found on stim channel stim\n",
      "Event IDs: [1 2 3 4]\n",
      "48 events found on stim channel stim\n",
      "Event IDs: [1 2 3 4]\n",
      "48 events found on stim channel stim\n",
      "Event IDs: [1 2 3 4]\n",
      "48 events found on stim channel stim\n",
      "Event IDs: [1 2 3 4]\n",
      "48 events found on stim channel stim\n",
      "Event IDs: [1 2 3 4]\n",
      "48 events found on stim channel stim\n",
      "Event IDs: [1 2 3 4]\n",
      "48 events found on stim channel stim\n",
      "Event IDs: [1 2 3 4]\n",
      "48 events found on stim channel stim\n",
      "Event IDs: [1 2 3 4]\n",
      "48 events found on stim channel stim\n",
      "Event IDs: [1 2 3 4]\n",
      "48 events found on stim channel stim\n",
      "Event IDs: [1 2 3 4]\n",
      "48 events found on stim channel stim\n",
      "Event IDs: [1 2 3 4]\n",
      "48 events found on stim channel stim\n",
      "Event IDs: [1 2 3 4]\n",
      "48 events found on stim channel stim\n",
      "Event IDs: [1 2 3 4]\n",
      "48 events found on stim channel stim\n",
      "Event IDs: [1 2 3 4]\n",
      "48 events found on stim channel stim\n",
      "Event IDs: [1 2 3 4]\n",
      "48 events found on stim channel stim\n",
      "Event IDs: [1 2 3 4]\n",
      "48 events found on stim channel stim\n",
      "Event IDs: [1 2 3 4]\n",
      "48 events found on stim channel stim\n",
      "Event IDs: [1 2 3 4]\n",
      "48 events found on stim channel stim\n",
      "Event IDs: [1 2 3 4]\n",
      "48 events found on stim channel stim\n",
      "Event IDs: [1 2 3 4]\n",
      "48 events found on stim channel stim\n",
      "Event IDs: [1 2 3 4]\n",
      "48 events found on stim channel stim\n",
      "Event IDs: [1 2 3 4]\n",
      "48 events found on stim channel stim\n",
      "Event IDs: [1 2 3 4]\n",
      "48 events found on stim channel stim\n",
      "Event IDs: [1 2 3 4]\n",
      "48 events found on stim channel stim\n",
      "Event IDs: [1 2 3 4]\n",
      "48 events found on stim channel stim\n",
      "Event IDs: [1 2 3 4]\n",
      "48 events found on stim channel stim\n",
      "Event IDs: [1 2 3 4]\n",
      "48 events found on stim channel stim\n",
      "Event IDs: [1 2 3 4]\n",
      "48 events found on stim channel stim\n",
      "Event IDs: [1 2 3 4]\n",
      "48 events found on stim channel stim\n",
      "Event IDs: [1 2 3 4]\n"
     ]
    },
    {
     "name": "stderr",
     "output_type": "stream",
     "text": [
      "/home/lhorns/miniconda3/envs/eeg/lib/python3.10/site-packages/sklearn/utils/deprecation.py:86: FutureWarning: Function scale is deprecated; will be removed in 0.8.0. Use numpy.multiply inside a lambda function instead.\n",
      "  warnings.warn(msg, category=FutureWarning)\n"
     ]
    },
    {
     "ename": "KeyboardInterrupt",
     "evalue": "",
     "output_type": "error",
     "traceback": [
      "\u001b[1;31m---------------------------------------------------------------------------\u001b[0m",
      "\u001b[1;31mKeyboardInterrupt\u001b[0m                         Traceback (most recent call last)",
      "Cell \u001b[1;32mIn[6], line 8\u001b[0m\n\u001b[0;32m      6\u001b[0m datamodule \u001b[38;5;241m=\u001b[39m datamodule_cls(source_config[\u001b[38;5;124m\"\u001b[39m\u001b[38;5;124mpreprocessing\u001b[39m\u001b[38;5;124m\"\u001b[39m], subject_ids\u001b[38;5;241m=\u001b[39m[SUBJECT_ID])\n\u001b[0;32m      7\u001b[0m datamodule\u001b[38;5;241m.\u001b[39msubject_id \u001b[38;5;241m=\u001b[39m SUBJECT_ID\n\u001b[1;32m----> 8\u001b[0m \u001b[43mdatamodule\u001b[49m\u001b[38;5;241;43m.\u001b[39;49m\u001b[43mprepare_data\u001b[49m\u001b[43m(\u001b[49m\u001b[43m)\u001b[49m\n\u001b[0;32m      9\u001b[0m datamodule\u001b[38;5;241m.\u001b[39msetup()\n",
      "File \u001b[1;32m~/Documents/UvA/DL2/test-time-enery-adaption/eeg/eeg_otta/datamodules/bcic.py:97\u001b[0m, in \u001b[0;36mBCICIV2aLOSO.prepare_data\u001b[1;34m(self)\u001b[0m\n\u001b[0;32m     94\u001b[0m \u001b[38;5;28;01mdef\u001b[39;00m\u001b[38;5;250m \u001b[39m\u001b[38;5;21mprepare_data\u001b[39m(\u001b[38;5;28mself\u001b[39m) \u001b[38;5;241m-\u001b[39m\u001b[38;5;241m>\u001b[39m \u001b[38;5;28;01mNone\u001b[39;00m:\n\u001b[0;32m     95\u001b[0m     \u001b[38;5;66;03m# for LOSO: load all subject_ids once\u001b[39;00m\n\u001b[0;32m     96\u001b[0m     \u001b[38;5;28;01mif\u001b[39;00m \u001b[38;5;129;01mnot\u001b[39;00m \u001b[38;5;28mself\u001b[39m\u001b[38;5;241m.\u001b[39mprepare_called:\n\u001b[1;32m---> 97\u001b[0m         \u001b[38;5;28mself\u001b[39m\u001b[38;5;241m.\u001b[39mdataset, \u001b[38;5;28mself\u001b[39m\u001b[38;5;241m.\u001b[39minfo \u001b[38;5;241m=\u001b[39m \u001b[43mload_bcic\u001b[49m\u001b[43m(\u001b[49m\n\u001b[0;32m     98\u001b[0m \u001b[43m            \u001b[49m\u001b[43msubject_ids\u001b[49m\u001b[38;5;241;43m=\u001b[39;49m\u001b[38;5;28;43mself\u001b[39;49m\u001b[38;5;241;43m.\u001b[39;49m\u001b[43mall_subject_ids\u001b[49m\u001b[43m,\u001b[49m\u001b[43m \u001b[49m\u001b[43mdataset\u001b[49m\u001b[38;5;241;43m=\u001b[39;49m\u001b[38;5;124;43m\"\u001b[39;49m\u001b[38;5;124;43m2a\u001b[39;49m\u001b[38;5;124;43m\"\u001b[39;49m\u001b[43m,\u001b[49m\n\u001b[0;32m     99\u001b[0m \u001b[43m            \u001b[49m\u001b[43mpreprocessing_dict\u001b[49m\u001b[38;5;241;43m=\u001b[39;49m\u001b[38;5;28;43mself\u001b[39;49m\u001b[38;5;241;43m.\u001b[39;49m\u001b[43mpreprocessing_dict\u001b[49m\u001b[43m)\u001b[49m\n\u001b[0;32m    100\u001b[0m         \u001b[38;5;28mself\u001b[39m\u001b[38;5;241m.\u001b[39mprepare_called \u001b[38;5;241m=\u001b[39m \u001b[38;5;28;01mTrue\u001b[39;00m\n",
      "File \u001b[1;32m~/Documents/UvA/DL2/test-time-enery-adaption/eeg/eeg_otta/utils/load_bcic.py:26\u001b[0m, in \u001b[0;36mload_bcic\u001b[1;34m(subject_ids, dataset, preprocessing_dict, verbose)\u001b[0m\n\u001b[0;32m     22\u001b[0m \u001b[38;5;28;01mif\u001b[39;00m l_freq \u001b[38;5;129;01mis\u001b[39;00m \u001b[38;5;129;01mnot\u001b[39;00m \u001b[38;5;28;01mNone\u001b[39;00m \u001b[38;5;129;01mor\u001b[39;00m h_freq \u001b[38;5;129;01mis\u001b[39;00m \u001b[38;5;129;01mnot\u001b[39;00m \u001b[38;5;28;01mNone\u001b[39;00m:\n\u001b[0;32m     23\u001b[0m     preprocessors\u001b[38;5;241m.\u001b[39mappend(Preprocessor(\u001b[38;5;124m\"\u001b[39m\u001b[38;5;124mfilter\u001b[39m\u001b[38;5;124m\"\u001b[39m, l_freq\u001b[38;5;241m=\u001b[39ml_freq, h_freq\u001b[38;5;241m=\u001b[39mh_freq,\n\u001b[0;32m     24\u001b[0m                                       verbose\u001b[38;5;241m=\u001b[39mverbose))\n\u001b[1;32m---> 26\u001b[0m \u001b[43mpreprocess\u001b[49m\u001b[43m(\u001b[49m\u001b[43mdataset\u001b[49m\u001b[43m,\u001b[49m\u001b[43m \u001b[49m\u001b[43mpreprocessors\u001b[49m\u001b[43m)\u001b[49m\n\u001b[0;32m     28\u001b[0m \u001b[38;5;66;03m# create windows\u001b[39;00m\n\u001b[0;32m     29\u001b[0m sfreq \u001b[38;5;241m=\u001b[39m dataset\u001b[38;5;241m.\u001b[39mdatasets[\u001b[38;5;241m0\u001b[39m]\u001b[38;5;241m.\u001b[39mraw\u001b[38;5;241m.\u001b[39minfo[\u001b[38;5;124m\"\u001b[39m\u001b[38;5;124msfreq\u001b[39m\u001b[38;5;124m\"\u001b[39m]\n",
      "File \u001b[1;32m~/miniconda3/envs/eeg/lib/python3.10/site-packages/braindecode/preprocessing/preprocess.py:127\u001b[0m, in \u001b[0;36mpreprocess\u001b[1;34m(concat_ds, preprocessors, save_dir, overwrite, n_jobs)\u001b[0m\n\u001b[0;32m    123\u001b[0m \u001b[38;5;28;01mfor\u001b[39;00m elem \u001b[38;5;129;01min\u001b[39;00m preprocessors:\n\u001b[0;32m    124\u001b[0m     \u001b[38;5;28;01massert\u001b[39;00m \u001b[38;5;28mhasattr\u001b[39m(elem, \u001b[38;5;124m'\u001b[39m\u001b[38;5;124mapply\u001b[39m\u001b[38;5;124m'\u001b[39m), (\n\u001b[0;32m    125\u001b[0m         \u001b[38;5;124m'\u001b[39m\u001b[38;5;124mPreprocessor object needs an `apply` method.\u001b[39m\u001b[38;5;124m'\u001b[39m)\n\u001b[1;32m--> 127\u001b[0m list_of_ds \u001b[38;5;241m=\u001b[39m \u001b[43mParallel\u001b[49m\u001b[43m(\u001b[49m\u001b[43mn_jobs\u001b[49m\u001b[38;5;241;43m=\u001b[39;49m\u001b[43mn_jobs\u001b[49m\u001b[43m)\u001b[49m\u001b[43m(\u001b[49m\n\u001b[0;32m    128\u001b[0m \u001b[43m    \u001b[49m\u001b[43mdelayed\u001b[49m\u001b[43m(\u001b[49m\u001b[43m_preprocess\u001b[49m\u001b[43m)\u001b[49m\u001b[43m(\u001b[49m\u001b[43mds\u001b[49m\u001b[43m,\u001b[49m\u001b[43m \u001b[49m\u001b[43mi\u001b[49m\u001b[43m,\u001b[49m\u001b[43m \u001b[49m\u001b[43mpreprocessors\u001b[49m\u001b[43m,\u001b[49m\u001b[43m \u001b[49m\u001b[43msave_dir\u001b[49m\u001b[43m,\u001b[49m\u001b[43m \u001b[49m\u001b[43moverwrite\u001b[49m\u001b[43m)\u001b[49m\n\u001b[0;32m    129\u001b[0m \u001b[43m    \u001b[49m\u001b[38;5;28;43;01mfor\u001b[39;49;00m\u001b[43m \u001b[49m\u001b[43mi\u001b[49m\u001b[43m,\u001b[49m\u001b[43m \u001b[49m\u001b[43mds\u001b[49m\u001b[43m \u001b[49m\u001b[38;5;129;43;01min\u001b[39;49;00m\u001b[43m \u001b[49m\u001b[38;5;28;43menumerate\u001b[39;49m\u001b[43m(\u001b[49m\u001b[43mconcat_ds\u001b[49m\u001b[38;5;241;43m.\u001b[39;49m\u001b[43mdatasets\u001b[49m\u001b[43m)\u001b[49m\u001b[43m)\u001b[49m\n\u001b[0;32m    131\u001b[0m \u001b[38;5;28;01mif\u001b[39;00m save_dir \u001b[38;5;129;01mis\u001b[39;00m \u001b[38;5;129;01mnot\u001b[39;00m \u001b[38;5;28;01mNone\u001b[39;00m:  \u001b[38;5;66;03m# Reload datasets and replace in concat_ds\u001b[39;00m\n\u001b[0;32m    132\u001b[0m     concat_ds_reloaded \u001b[38;5;241m=\u001b[39m load_concat_dataset(\n\u001b[0;32m    133\u001b[0m         save_dir, preload\u001b[38;5;241m=\u001b[39m\u001b[38;5;28;01mFalse\u001b[39;00m, target_name\u001b[38;5;241m=\u001b[39m\u001b[38;5;28;01mNone\u001b[39;00m)\n",
      "File \u001b[1;32m~/miniconda3/envs/eeg/lib/python3.10/site-packages/joblib/parallel.py:1863\u001b[0m, in \u001b[0;36mParallel.__call__\u001b[1;34m(self, iterable)\u001b[0m\n\u001b[0;32m   1861\u001b[0m     output \u001b[38;5;241m=\u001b[39m \u001b[38;5;28mself\u001b[39m\u001b[38;5;241m.\u001b[39m_get_sequential_output(iterable)\n\u001b[0;32m   1862\u001b[0m     \u001b[38;5;28mnext\u001b[39m(output)\n\u001b[1;32m-> 1863\u001b[0m     \u001b[38;5;28;01mreturn\u001b[39;00m output \u001b[38;5;28;01mif\u001b[39;00m \u001b[38;5;28mself\u001b[39m\u001b[38;5;241m.\u001b[39mreturn_generator \u001b[38;5;28;01melse\u001b[39;00m \u001b[38;5;28;43mlist\u001b[39;49m\u001b[43m(\u001b[49m\u001b[43moutput\u001b[49m\u001b[43m)\u001b[49m\n\u001b[0;32m   1865\u001b[0m \u001b[38;5;66;03m# Let's create an ID that uniquely identifies the current call. If the\u001b[39;00m\n\u001b[0;32m   1866\u001b[0m \u001b[38;5;66;03m# call is interrupted early and that the same instance is immediately\u001b[39;00m\n\u001b[0;32m   1867\u001b[0m \u001b[38;5;66;03m# re-used, this id will be used to prevent workers that were\u001b[39;00m\n\u001b[0;32m   1868\u001b[0m \u001b[38;5;66;03m# concurrently finalizing a task from the previous call to run the\u001b[39;00m\n\u001b[0;32m   1869\u001b[0m \u001b[38;5;66;03m# callback.\u001b[39;00m\n\u001b[0;32m   1870\u001b[0m \u001b[38;5;28;01mwith\u001b[39;00m \u001b[38;5;28mself\u001b[39m\u001b[38;5;241m.\u001b[39m_lock:\n",
      "File \u001b[1;32m~/miniconda3/envs/eeg/lib/python3.10/site-packages/joblib/parallel.py:1792\u001b[0m, in \u001b[0;36mParallel._get_sequential_output\u001b[1;34m(self, iterable)\u001b[0m\n\u001b[0;32m   1790\u001b[0m \u001b[38;5;28mself\u001b[39m\u001b[38;5;241m.\u001b[39mn_dispatched_batches \u001b[38;5;241m+\u001b[39m\u001b[38;5;241m=\u001b[39m \u001b[38;5;241m1\u001b[39m\n\u001b[0;32m   1791\u001b[0m \u001b[38;5;28mself\u001b[39m\u001b[38;5;241m.\u001b[39mn_dispatched_tasks \u001b[38;5;241m+\u001b[39m\u001b[38;5;241m=\u001b[39m \u001b[38;5;241m1\u001b[39m\n\u001b[1;32m-> 1792\u001b[0m res \u001b[38;5;241m=\u001b[39m \u001b[43mfunc\u001b[49m\u001b[43m(\u001b[49m\u001b[38;5;241;43m*\u001b[39;49m\u001b[43margs\u001b[49m\u001b[43m,\u001b[49m\u001b[43m \u001b[49m\u001b[38;5;241;43m*\u001b[39;49m\u001b[38;5;241;43m*\u001b[39;49m\u001b[43mkwargs\u001b[49m\u001b[43m)\u001b[49m\n\u001b[0;32m   1793\u001b[0m \u001b[38;5;28mself\u001b[39m\u001b[38;5;241m.\u001b[39mn_completed_tasks \u001b[38;5;241m+\u001b[39m\u001b[38;5;241m=\u001b[39m \u001b[38;5;241m1\u001b[39m\n\u001b[0;32m   1794\u001b[0m \u001b[38;5;28mself\u001b[39m\u001b[38;5;241m.\u001b[39mprint_progress()\n",
      "File \u001b[1;32m~/miniconda3/envs/eeg/lib/python3.10/site-packages/braindecode/preprocessing/preprocess.py:192\u001b[0m, in \u001b[0;36m_preprocess\u001b[1;34m(ds, ds_index, preprocessors, save_dir, overwrite)\u001b[0m\n\u001b[0;32m    189\u001b[0m         preproc\u001b[38;5;241m.\u001b[39mapply(raw_or_epochs)\n\u001b[0;32m    191\u001b[0m \u001b[38;5;28;01mif\u001b[39;00m \u001b[38;5;28mhasattr\u001b[39m(ds, \u001b[38;5;124m'\u001b[39m\u001b[38;5;124mraw\u001b[39m\u001b[38;5;124m'\u001b[39m):\n\u001b[1;32m--> 192\u001b[0m     \u001b[43m_preprocess_raw_or_epochs\u001b[49m\u001b[43m(\u001b[49m\u001b[43mds\u001b[49m\u001b[38;5;241;43m.\u001b[39;49m\u001b[43mraw\u001b[49m\u001b[43m,\u001b[49m\u001b[43m \u001b[49m\u001b[43mpreprocessors\u001b[49m\u001b[43m)\u001b[49m\n\u001b[0;32m    193\u001b[0m \u001b[38;5;28;01melif\u001b[39;00m \u001b[38;5;28mhasattr\u001b[39m(ds, \u001b[38;5;124m'\u001b[39m\u001b[38;5;124mwindows\u001b[39m\u001b[38;5;124m'\u001b[39m):\n\u001b[0;32m    194\u001b[0m     _preprocess_raw_or_epochs(ds\u001b[38;5;241m.\u001b[39mwindows, preprocessors)\n",
      "File \u001b[1;32m~/miniconda3/envs/eeg/lib/python3.10/site-packages/braindecode/preprocessing/preprocess.py:189\u001b[0m, in \u001b[0;36m_preprocess.<locals>._preprocess_raw_or_epochs\u001b[1;34m(raw_or_epochs, preprocessors)\u001b[0m\n\u001b[0;32m    187\u001b[0m \u001b[38;5;28;01mdef\u001b[39;00m\u001b[38;5;250m \u001b[39m\u001b[38;5;21m_preprocess_raw_or_epochs\u001b[39m(raw_or_epochs, preprocessors):\n\u001b[0;32m    188\u001b[0m     \u001b[38;5;28;01mfor\u001b[39;00m preproc \u001b[38;5;129;01min\u001b[39;00m preprocessors:\n\u001b[1;32m--> 189\u001b[0m         \u001b[43mpreproc\u001b[49m\u001b[38;5;241;43m.\u001b[39;49m\u001b[43mapply\u001b[49m\u001b[43m(\u001b[49m\u001b[43mraw_or_epochs\u001b[49m\u001b[43m)\u001b[49m\n",
      "File \u001b[1;32m~/miniconda3/envs/eeg/lib/python3.10/site-packages/braindecode/preprocessing/preprocess.py:68\u001b[0m, in \u001b[0;36mPreprocessor.apply\u001b[1;34m(self, raw_or_epochs)\u001b[0m\n\u001b[0;32m     66\u001b[0m \u001b[38;5;28;01mdef\u001b[39;00m\u001b[38;5;250m \u001b[39m\u001b[38;5;21mapply\u001b[39m(\u001b[38;5;28mself\u001b[39m, raw_or_epochs):\n\u001b[0;32m     67\u001b[0m     \u001b[38;5;28;01mtry\u001b[39;00m:\n\u001b[1;32m---> 68\u001b[0m         \u001b[38;5;28;43mself\u001b[39;49m\u001b[38;5;241;43m.\u001b[39;49m\u001b[43m_try_apply\u001b[49m\u001b[43m(\u001b[49m\u001b[43mraw_or_epochs\u001b[49m\u001b[43m)\u001b[49m\n\u001b[0;32m     69\u001b[0m     \u001b[38;5;28;01mexcept\u001b[39;00m \u001b[38;5;167;01mRuntimeError\u001b[39;00m:\n\u001b[0;32m     70\u001b[0m         \u001b[38;5;66;03m# Maybe the function needs the data to be loaded and the data was\u001b[39;00m\n\u001b[0;32m     71\u001b[0m         \u001b[38;5;66;03m# not loaded yet. Not all MNE functions need data to be loaded,\u001b[39;00m\n\u001b[0;32m     72\u001b[0m         \u001b[38;5;66;03m# most importantly the 'crop' function can be lazily applied\u001b[39;00m\n\u001b[0;32m     73\u001b[0m         \u001b[38;5;66;03m# without preloading data which can make the overall preprocessing\u001b[39;00m\n\u001b[0;32m     74\u001b[0m         \u001b[38;5;66;03m# pipeline substantially faster.\u001b[39;00m\n\u001b[0;32m     75\u001b[0m         raw_or_epochs\u001b[38;5;241m.\u001b[39mload_data()\n",
      "File \u001b[1;32m~/miniconda3/envs/eeg/lib/python3.10/site-packages/braindecode/preprocessing/preprocess.py:85\u001b[0m, in \u001b[0;36mPreprocessor._try_apply\u001b[1;34m(self, raw_or_epochs)\u001b[0m\n\u001b[0;32m     82\u001b[0m \u001b[38;5;28;01mif\u001b[39;00m \u001b[38;5;129;01mnot\u001b[39;00m \u001b[38;5;28mhasattr\u001b[39m(raw_or_epochs, \u001b[38;5;28mself\u001b[39m\u001b[38;5;241m.\u001b[39mfn):\n\u001b[0;32m     83\u001b[0m     \u001b[38;5;28;01mraise\u001b[39;00m \u001b[38;5;167;01mAttributeError\u001b[39;00m(\n\u001b[0;32m     84\u001b[0m         \u001b[38;5;124mf\u001b[39m\u001b[38;5;124m'\u001b[39m\u001b[38;5;124mMNE object does not have a \u001b[39m\u001b[38;5;132;01m{\u001b[39;00m\u001b[38;5;28mself\u001b[39m\u001b[38;5;241m.\u001b[39mfn\u001b[38;5;132;01m}\u001b[39;00m\u001b[38;5;124m method.\u001b[39m\u001b[38;5;124m'\u001b[39m)\n\u001b[1;32m---> 85\u001b[0m \u001b[38;5;28;43mgetattr\u001b[39;49m\u001b[43m(\u001b[49m\u001b[43mraw_or_epochs\u001b[49m\u001b[43m,\u001b[49m\u001b[43m \u001b[49m\u001b[38;5;28;43mself\u001b[39;49m\u001b[38;5;241;43m.\u001b[39;49m\u001b[43mfn\u001b[49m\u001b[43m)\u001b[49m\u001b[43m(\u001b[49m\u001b[38;5;241;43m*\u001b[39;49m\u001b[38;5;241;43m*\u001b[39;49m\u001b[38;5;28;43mself\u001b[39;49m\u001b[38;5;241;43m.\u001b[39;49m\u001b[43mkwargs\u001b[49m\u001b[43m)\u001b[49m\n",
      "File \u001b[1;32m<decorator-gen-168>:12\u001b[0m, in \u001b[0;36mapply_function\u001b[1;34m(self, fun, picks, dtype, n_jobs, channel_wise, verbose, **kwargs)\u001b[0m\n",
      "File \u001b[1;32m~/miniconda3/envs/eeg/lib/python3.10/site-packages/mne/io/base.py:1104\u001b[0m, in \u001b[0;36mBaseRaw.apply_function\u001b[1;34m(self, fun, picks, dtype, n_jobs, channel_wise, verbose, **kwargs)\u001b[0m\n\u001b[0;32m   1102\u001b[0m             \u001b[38;5;28mself\u001b[39m\u001b[38;5;241m.\u001b[39m_data[p, :] \u001b[38;5;241m=\u001b[39m data_picks_new[pp]\n\u001b[0;32m   1103\u001b[0m \u001b[38;5;28;01melse\u001b[39;00m:\n\u001b[1;32m-> 1104\u001b[0m     \u001b[38;5;28mself\u001b[39m\u001b[38;5;241m.\u001b[39m_data[picks, :] \u001b[38;5;241m=\u001b[39m \u001b[43m_check_fun\u001b[49m\u001b[43m(\u001b[49m\u001b[43mfun\u001b[49m\u001b[43m,\u001b[49m\u001b[43m \u001b[49m\u001b[43mdata_in\u001b[49m\u001b[43m[\u001b[49m\u001b[43mpicks\u001b[49m\u001b[43m,\u001b[49m\u001b[43m \u001b[49m\u001b[43m:\u001b[49m\u001b[43m]\u001b[49m\u001b[43m,\u001b[49m\u001b[43m \u001b[49m\u001b[38;5;241;43m*\u001b[39;49m\u001b[38;5;241;43m*\u001b[39;49m\u001b[43mkwargs\u001b[49m\u001b[43m)\u001b[49m\n\u001b[0;32m   1106\u001b[0m \u001b[38;5;28;01mreturn\u001b[39;00m \u001b[38;5;28mself\u001b[39m\n",
      "File \u001b[1;32m~/miniconda3/envs/eeg/lib/python3.10/site-packages/mne/filter.py:2821\u001b[0m, in \u001b[0;36m_check_fun\u001b[1;34m(fun, d, *args, **kwargs)\u001b[0m\n\u001b[0;32m   2819\u001b[0m \u001b[38;5;250m\u001b[39m\u001b[38;5;124;03m\"\"\"Check shapes.\"\"\"\u001b[39;00m\n\u001b[0;32m   2820\u001b[0m want_shape \u001b[38;5;241m=\u001b[39m d\u001b[38;5;241m.\u001b[39mshape\n\u001b[1;32m-> 2821\u001b[0m d \u001b[38;5;241m=\u001b[39m \u001b[43mfun\u001b[49m\u001b[43m(\u001b[49m\u001b[43md\u001b[49m\u001b[43m,\u001b[49m\u001b[43m \u001b[49m\u001b[38;5;241;43m*\u001b[39;49m\u001b[43margs\u001b[49m\u001b[43m,\u001b[49m\u001b[43m \u001b[49m\u001b[38;5;241;43m*\u001b[39;49m\u001b[38;5;241;43m*\u001b[39;49m\u001b[43mkwargs\u001b[49m\u001b[43m)\u001b[49m\n\u001b[0;32m   2822\u001b[0m \u001b[38;5;28;01mif\u001b[39;00m \u001b[38;5;129;01mnot\u001b[39;00m \u001b[38;5;28misinstance\u001b[39m(d, np\u001b[38;5;241m.\u001b[39mndarray):\n\u001b[0;32m   2823\u001b[0m     \u001b[38;5;28;01mraise\u001b[39;00m \u001b[38;5;167;01mTypeError\u001b[39;00m(\u001b[38;5;124m\"\u001b[39m\u001b[38;5;124mReturn value must be an ndarray\u001b[39m\u001b[38;5;124m\"\u001b[39m)\n",
      "File \u001b[1;32m~/miniconda3/envs/eeg/lib/python3.10/site-packages/sklearn/utils/deprecation.py:87\u001b[0m, in \u001b[0;36mdeprecated._decorate_fun.<locals>.wrapped\u001b[1;34m(*args, **kwargs)\u001b[0m\n\u001b[0;32m     84\u001b[0m \u001b[38;5;129m@functools\u001b[39m\u001b[38;5;241m.\u001b[39mwraps(fun)\n\u001b[0;32m     85\u001b[0m \u001b[38;5;28;01mdef\u001b[39;00m\u001b[38;5;250m \u001b[39m\u001b[38;5;21mwrapped\u001b[39m(\u001b[38;5;241m*\u001b[39margs, \u001b[38;5;241m*\u001b[39m\u001b[38;5;241m*\u001b[39mkwargs):\n\u001b[0;32m     86\u001b[0m     warnings\u001b[38;5;241m.\u001b[39mwarn(msg, category\u001b[38;5;241m=\u001b[39m\u001b[38;5;167;01mFutureWarning\u001b[39;00m)\n\u001b[1;32m---> 87\u001b[0m     \u001b[38;5;28;01mreturn\u001b[39;00m \u001b[43mfun\u001b[49m\u001b[43m(\u001b[49m\u001b[38;5;241;43m*\u001b[39;49m\u001b[43margs\u001b[49m\u001b[43m,\u001b[49m\u001b[43m \u001b[49m\u001b[38;5;241;43m*\u001b[39;49m\u001b[38;5;241;43m*\u001b[39;49m\u001b[43mkwargs\u001b[49m\u001b[43m)\u001b[49m\n",
      "File \u001b[1;32m~/miniconda3/envs/eeg/lib/python3.10/site-packages/braindecode/preprocessing/preprocess.py:357\u001b[0m, in \u001b[0;36mscale\u001b[1;34m(data, factor)\u001b[0m\n\u001b[0;32m    335\u001b[0m \u001b[38;5;129m@deprecated\u001b[39m(extra\u001b[38;5;241m=\u001b[39m\u001b[38;5;124m'\u001b[39m\u001b[38;5;124mwill be removed in 0.8.0. Use numpy.multiply inside a lambda function instead.\u001b[39m\u001b[38;5;124m'\u001b[39m)\n\u001b[0;32m    336\u001b[0m \u001b[38;5;28;01mdef\u001b[39;00m\u001b[38;5;250m \u001b[39m\u001b[38;5;21mscale\u001b[39m(data, factor):\n\u001b[0;32m    337\u001b[0m \u001b[38;5;250m    \u001b[39m\u001b[38;5;124;03m\"\"\"Scale continuous or windowed data in-place\u001b[39;00m\n\u001b[0;32m    338\u001b[0m \n\u001b[0;32m    339\u001b[0m \u001b[38;5;124;03m    Parameters\u001b[39;00m\n\u001b[1;32m   (...)\u001b[0m\n\u001b[0;32m    355\u001b[0m \u001b[38;5;124;03m        given to raw.apply_function().\u001b[39;00m\n\u001b[0;32m    356\u001b[0m \u001b[38;5;124;03m    \"\"\"\u001b[39;00m\n\u001b[1;32m--> 357\u001b[0m     scaled \u001b[38;5;241m=\u001b[39m \u001b[43mnp\u001b[49m\u001b[38;5;241;43m.\u001b[39;49m\u001b[43mmultiply\u001b[49m\u001b[43m(\u001b[49m\u001b[43mdata\u001b[49m\u001b[43m,\u001b[49m\u001b[43m \u001b[49m\u001b[43mfactor\u001b[49m\u001b[43m)\u001b[49m\n\u001b[0;32m    358\u001b[0m     \u001b[38;5;66;03m# TODO: the overriding of protected '_data' should be implemented in the\u001b[39;00m\n\u001b[0;32m    359\u001b[0m     \u001b[38;5;66;03m# TODO: dataset when transforms are applied to windows\u001b[39;00m\n\u001b[0;32m    360\u001b[0m     \u001b[38;5;28;01mif\u001b[39;00m \u001b[38;5;28mhasattr\u001b[39m(data, \u001b[38;5;124m'\u001b[39m\u001b[38;5;124m_data\u001b[39m\u001b[38;5;124m'\u001b[39m):\n",
      "\u001b[1;31mKeyboardInterrupt\u001b[0m: "
     ]
    }
   ],
   "source": [
    "SUBJECT_ID = 1\n",
    "ckpt_path = os.path.join(\n",
    "    CHECKPOINT_PATH, config[\"source_run\"], str(SUBJECT_ID), \"model-v1.ckpt\"\n",
    ")\n",
    "\n",
    "model = model_cls.load_from_checkpoint(ckpt_path, map_location=device)\n",
    "\n",
    "preprocess_modifications = dict(\n",
    "    batch_size=1,\n",
    "    alignment=False,\n",
    ")\n",
    "\n",
    "datamodule = datamodule_cls(\n",
    "    source_config[\"preprocessing\"] | preprocess_modifications, subject_ids=[SUBJECT_ID]\n",
    ")\n",
    "datamodule.subject_id = SUBJECT_ID\n",
    "datamodule.prepare_data()\n",
    "datamodule.setup()"
   ]
  },
  {
   "cell_type": "code",
   "execution_count": null,
   "id": "14666935",
   "metadata": {},
   "outputs": [
    {
     "name": "stderr",
     "output_type": "stream",
     "text": [
      "100%|██████████| 36/36 [00:05<00:00,  6.88it/s]\n",
      "100%|██████████| 36/36 [00:05<00:00,  7.19it/s]\n"
     ]
    },
    {
     "data": {
      "text/plain": [
       "0.7630208"
      ]
     },
     "execution_count": 56,
     "metadata": {},
     "output_type": "execute_result"
    }
   ],
   "source": [
    "from eeg_otta.utils.get_accuracy import get_accuracy\n",
    "\n",
    "get_accuracy(model, datamodule.val_dataloader(), device=device)"
   ]
  },
  {
   "cell_type": "code",
   "execution_count": 57,
   "id": "52bd70aa",
   "metadata": {},
   "outputs": [
    {
     "name": "stderr",
     "output_type": "stream",
     "text": [
      "100%|██████████| 5/5 [00:00<00:00,  6.81it/s]\n",
      "100%|██████████| 5/5 [00:00<00:00,  6.94it/s]\n"
     ]
    },
    {
     "data": {
      "text/plain": [
       "0.6909722"
      ]
     },
     "execution_count": 57,
     "metadata": {},
     "output_type": "execute_result"
    }
   ],
   "source": [
    "get_accuracy(model, datamodule.test_dataloader(), device=device)"
   ]
  },
  {
   "cell_type": "code",
   "execution_count": 58,
   "id": "eab08210",
   "metadata": {},
   "outputs": [
    {
     "name": "stderr",
     "output_type": "stream",
     "text": [
      "100%|██████████| 36/36 [00:06<00:00,  5.63it/s]\n",
      "100%|██████████| 36/36 [00:06<00:00,  5.99it/s]\n"
     ]
    },
    {
     "data": {
      "text/plain": [
       "0.9618056"
      ]
     },
     "execution_count": 58,
     "metadata": {},
     "output_type": "execute_result"
    }
   ],
   "source": [
    "get_accuracy(model, datamodule.train_dataloader(), device=device)"
   ]
  },
  {
   "cell_type": "code",
   "execution_count": null,
   "id": "336851b9",
   "metadata": {},
   "outputs": [
    {
     "name": "stdout",
     "output_type": "stream",
     "text": [
      "Train accs:  [0.985243059694767, 0.9427083358168602, 0.9809027835726738, 0.92578125, 0.94921875, 0.9262152761220932, 0.986111119389534, 0.982638880610466, 0.987413190305233]\n",
      "Val accs:  [0.8255208283662796, 0.5568576380610466, 0.9066840261220932, 0.712673619389534, 0.774305559694767, 0.6480034738779068, 0.852864570915699, 0.8072916716337204, 0.8433159664273262]\n",
      "Test accs:  [0.6805555820465088, 0.3958333432674408, 0.8402777910232544, 0.5416666865348816, 0.6701388955116272, 0.4930555522441864, 0.7673611044883728, 0.7291666865348816, 0.7465277910232544]\n",
      "Mean test acc:  0.6516203814082675\n"
     ]
    },
    {
     "data": {
      "text/plain": [
       "<matplotlib.legend.Legend at 0x7198694e7f10>"
      ]
     },
     "execution_count": 12,
     "metadata": {},
     "output_type": "execute_result"
    },
    {
     "data": {
      "image/png": "[encoded data removed]",
      "text/plain": [
       "<Figure size 1200x600 with 1 Axes>"
      ]
     },
     "metadata": {},
     "output_type": "display_data"
    }
   ],
   "source": [
    "import json\n",
    "import matplotlib.pyplot as plt\n",
    "import numpy as np\n",
    "from pprint import pprint\n",
    "\n",
    "with open(\"logs/bcic2a_loso-default_subject_accs2.json\", \"r\") as f:\n",
    "    accuracies = json.load(f)\n",
    "\n",
    "# pprint(accuracies)\n",
    "\n",
    "train_accs = []\n",
    "val_accs = []\n",
    "test_accs = []\n",
    "\n",
    "for subject_idx in accuracies.keys():\n",
    "    train_acc = []\n",
    "    val_acc = []\n",
    "    for run_idx, accs in accuracies.items():\n",
    "        if subject_idx == run_idx:\n",
    "            test_accs.append(accs[\"test_acc\"][f\"subject_{subject_idx}\"])\n",
    "        else:\n",
    "            train_acc.append(accs[\"train_acc\"][f\"subject_{subject_idx}\"])\n",
    "            val_acc.append(accs[\"val_acc\"][f\"subject_{subject_idx}\"])\n",
    "\n",
    "    train_accs.append(np.mean(train_acc))\n",
    "    val_accs.append(np.mean(val_acc))\n",
    "\n",
    "print(\"Train accs: \", train_accs)\n",
    "print(\"Val accs: \", val_accs)\n",
    "print(\"Test accs: \", test_accs)\n",
    "print(\"Mean test acc: \", np.mean(test_accs))\n",
    "\n",
    "categories = accuracies.keys()\n",
    "x = np.arange(len(categories))  # the label locations\n",
    "width = 0.25  # the width of the bars\n",
    "fig, ax = plt.subplots(figsize=(12, 6))\n",
    "rects1 = ax.bar(x - width, train_accs, width, label=\"Train (mean)\")\n",
    "rects2 = ax.bar(x, val_accs, width, label=\"Validation (mean)\")\n",
    "rects3 = ax.bar(x + width, test_accs, width, label=\"Test\")\n",
    "\n",
    "ax.set_xlabel(\"Subject\")\n",
    "ax.set_ylabel(\"Accuracy\")\n",
    "ax.set_title(\"Accuracy by subject\")\n",
    "ax.set_xticks(x)\n",
    "ax.set_xticklabels(categories)\n",
    "ax.legend()"
   ]
  },
  {
   "cell_type": "code",
   "execution_count": null,
   "id": "014ccac3",
   "metadata": {},
   "outputs": [
    {
     "name": "stdout",
     "output_type": "stream",
     "text": [
      "Train accs:  [0.986545130610466, 0.9505208432674408, 0.9835069477558136, 0.9318576380610466, 0.9557291716337204, 0.938368059694767, 0.9882812574505806, 0.978732630610466, 0.9813368022441864]\n",
      "Val accs:  [0.8307291641831398, 0.6145833283662796, 0.91015625, 0.7113715335726738, 0.7929687649011612, 0.65234375, 0.86328125, 0.8398437425494194, 0.8315972238779068]\n",
      "Test accs:  [0.7118055820465088, 0.4722222089767456, 0.8645833134651184, 0.6041666865348816, 0.6631944179534912, 0.5451388955116272, 0.7777777910232544, 0.75, 0.7395833134651184]\n",
      "Mean test acc:  0.6809413565529717\n"
     ]
    },
    {
     "data": {
      "text/plain": [
       "<matplotlib.legend.Legend at 0x719868f1cb20>"
      ]
     },
     "execution_count": 14,
     "metadata": {},
     "output_type": "execute_result"
    },
    {
     "data": {
      "image/png": "[encoded data removed]",
      "text/plain": [
       "<Figure size 1200x600 with 1 Axes>"
      ]
     },
     "metadata": {},
     "output_type": "display_data"
    }
   ],
   "source": [
    "with open(\"logs/bcic2a_loso-default_subject_accs-ongoing_norm.json\", \"r\") as f:\n",
    "    accuracies = json.load(f)\n",
    "\n",
    "# pprint(accuracies)\n",
    "\n",
    "train_accs2 = []\n",
    "val_accs2 = []\n",
    "test_accs2 = []\n",
    "\n",
    "for subject_idx in accuracies.keys():\n",
    "    train_acc = []\n",
    "    val_acc = []\n",
    "    for run_idx, accs in accuracies.items():\n",
    "        if subject_idx == run_idx:\n",
    "            test_accs2.append(accs[\"test_acc\"][f\"subject_{subject_idx}\"])\n",
    "        else:\n",
    "            train_acc.append(accs[\"train_acc\"][f\"subject_{subject_idx}\"])\n",
    "            val_acc.append(accs[\"val_acc\"][f\"subject_{subject_idx}\"])\n",
    "\n",
    "    train_accs2.append(np.mean(train_acc))\n",
    "    val_accs2.append(np.mean(val_acc))\n",
    "\n",
    "print(\"Train accs: \", train_accs2)\n",
    "print(\"Val accs: \", val_accs2)\n",
    "print(\"Test accs: \", test_accs2)\n",
    "print(\"Mean test acc: \", np.mean(test_accs2))\n",
    "\n",
    "categories = accuracies.keys()\n",
    "x = np.arange(len(categories))  # the label locations\n",
    "width = 0.25  # the width of the bars\n",
    "fig, ax = plt.subplots(figsize=(12, 6))\n",
    "rects1 = ax.bar(x - width, train_accs2, width, label=\"Train (mean)\")\n",
    "rects2 = ax.bar(x, val_accs2, width, label=\"Validation (mean)\")\n",
    "rects3 = ax.bar(x + width, test_accs2, width, label=\"Test\")\n",
    "\n",
    "ax.set_xlabel(\"Subject\")\n",
    "ax.set_ylabel(\"Accuracy\")\n",
    "ax.set_title(\"Accuracy by subject\")\n",
    "ax.set_xticks(x)\n",
    "ax.set_xticklabels(categories)\n",
    "ax.legend()"
   ]
  },
  {
   "cell_type": "code",
   "execution_count": null,
   "id": "27e377d9",
   "metadata": {},
   "outputs": [
    {
     "name": "stdout",
     "output_type": "stream",
     "text": [
      "Train accs diff:  0.0031828706463178 [ 0.00130207  0.00781251  0.00260416  0.00607639  0.00651042  0.01215278\n",
      "  0.00217014 -0.00390625 -0.00607639]\n",
      "Val accs diff:  0.01326196144024531 [ 0.00520834  0.05772569  0.00347222 -0.00130209  0.01866321  0.00434028\n",
      "  0.01041668  0.03255207 -0.01171874]\n",
      "Test accs diff:  0.029320975144704182 [ 0.03125     0.07638887  0.02430552  0.0625     -0.00694448  0.05208334\n",
      "  0.01041669  0.02083331 -0.00694448]\n"
     ]
    },
    {
     "data": {
      "text/plain": [
       "<BarContainer object of 9 artists>"
      ]
     },
     "execution_count": 11,
     "metadata": {},
     "output_type": "execute_result"
    },
    {
     "data": {
      "image/png": "[encoded data removed]",
      "text/plain": [
       "<Figure size 1200x600 with 3 Axes>"
      ]
     },
     "metadata": {},
     "output_type": "display_data"
    }
   ],
   "source": [
    "train_diff = np.array(train_accs2) - np.array(train_accs)\n",
    "print(\"Train accs diff: \", np.mean(train_diff), train_diff)\n",
    "\n",
    "val_diff = np.array(val_accs2) - np.array(val_accs)\n",
    "print(\"Val accs diff: \", np.mean(val_diff), val_diff)\n",
    "\n",
    "test_diff = np.array(test_accs2) - np.array(test_accs)\n",
    "print(\"Test accs diff: \", np.mean(test_diff), test_diff)\n",
    "fig, ax = plt.subplots(1, 3, figsize=(12, 6))\n",
    "ax[0].bar(x, train_diff)\n",
    "ax[1].bar(x, val_diff)\n",
    "ax[2].bar(x, test_diff)"
   ]
  }
 ],
 "metadata": {
  "kernelspec": {
   "display_name": "eeg",
   "language": "python",
   "name": "python3"
  },
  "language_info": {
   "codemirror_mode": {
    "name": "ipython",
    "version": 3
   },
   "file_extension": ".py",
   "mimetype": "text/x-python",
   "name": "python",
   "nbconvert_exporter": "python",
   "pygments_lexer": "ipython3",
   "version": "3.10.17"
  }
 },
 "nbformat": 4,
 "nbformat_minor": 5
}
